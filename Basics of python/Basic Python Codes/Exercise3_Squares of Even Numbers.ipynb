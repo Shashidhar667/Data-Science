{
 "cells": [
  {
   "cell_type": "code",
   "execution_count": null,
   "id": "86a9fa32-1dbc-41f1-9ed3-5a4e502016ce",
   "metadata": {},
   "outputs": [],
   "source": [
    "# Python program to print squares of all Even Numbers in the range of 100 to 200\n",
    "\n",
    "start = 100\n",
    "last = 200\n",
    "\n",
    "# iterating each number in list\n",
    "for num in range(start, last + 1):\n",
    "\n",
    "\t# checking condition\n",
    "\tif num % 2 == 0:       \n",
    "\t\tprint(num**2,end=\" \")\n"
   ]
  }
 ],
 "metadata": {
  "kernelspec": {
   "display_name": "Python 3 (ipykernel)",
   "language": "python",
   "name": "python3"
  },
  "language_info": {
   "codemirror_mode": {
    "name": "ipython",
    "version": 3
   },
   "file_extension": ".py",
   "mimetype": "text/x-python",
   "name": "python",
   "nbconvert_exporter": "python",
   "pygments_lexer": "ipython3",
   "version": "3.11.7"
  }
 },
 "nbformat": 4,
 "nbformat_minor": 5
}
