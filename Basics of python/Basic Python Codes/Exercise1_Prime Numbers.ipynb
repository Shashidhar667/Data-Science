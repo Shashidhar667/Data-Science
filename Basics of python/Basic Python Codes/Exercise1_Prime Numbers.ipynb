{
 "cells": [
  {
   "cell_type": "code",
   "execution_count": 1,
   "id": "ab2092e6-6dfc-4701-9810-bc0f6777339b",
   "metadata": {},
   "outputs": [
    {
     "name": "stdout",
     "output_type": "stream",
     "text": [
      "true\n"
     ]
    }
   ],
   "source": [
    "# python code to execute given input is prime number or not\n",
    "from math import sqrt\n",
    "def isprime(n):\n",
    "    if n<=1:\n",
    "        return False\n",
    "    for i in range(2,int(sqrt(n))+1):\n",
    "        if(n%i==0):\n",
    "            return False\n",
    "        return True\n",
    "if isprime(7):  # enter your input is here\n",
    "    print(\"true\")\n",
    "else:\n",
    "    print(\"False\")"
   ]
  },
  {
   "cell_type": "code",
   "execution_count": null,
   "id": "d56f1c37-df78-426b-85f1-0d0a227f57f4",
   "metadata": {},
   "outputs": [],
   "source": []
  }
 ],
 "metadata": {
  "kernelspec": {
   "display_name": "Python 3 (ipykernel)",
   "language": "python",
   "name": "python3"
  },
  "language_info": {
   "codemirror_mode": {
    "name": "ipython",
    "version": 3
   },
   "file_extension": ".py",
   "mimetype": "text/x-python",
   "name": "python",
   "nbconvert_exporter": "python",
   "pygments_lexer": "ipython3",
   "version": "3.11.7"
  }
 },
 "nbformat": 4,
 "nbformat_minor": 5
}
