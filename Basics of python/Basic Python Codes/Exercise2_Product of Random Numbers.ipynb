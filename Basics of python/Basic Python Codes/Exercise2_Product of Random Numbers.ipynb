{
 "cells": [
  {
   "cell_type": "code",
   "execution_count": null,
   "id": "06eb0669-6d32-4202-a767-ef744bc6f595",
   "metadata": {},
   "outputs": [],
   "source": [
    "# Develop a Python program that generates two random numbers and asks the user to enter the product of these numbers. \n",
    "# The program should then check if the user's answer is correct and display an appropriate message.\n",
    "\n",
    "import random\n",
    "\n",
    "def product_numbers():\n",
    "    \n",
    "    Num1 = random.randint(1,15)\n",
    "    Num2 = random.randint(1,15)\n",
    "\n",
    "    Product = Num1 * Num2\n",
    "\n",
    "    Actual_Answer = int(input(f\"what is the product of {Num1} and {Num2} ? \"))\n",
    "\n",
    "    if Actual_Answer == Product:\n",
    "        print(\"Your Answer is Correct\")\n",
    "    else:\n",
    "        print(\"The answer is wrong and the correct answer is: \",Product)\n",
    "\n",
    "product_numbers()"
   ]
  }
 ],
 "metadata": {
  "kernelspec": {
   "display_name": "Python 3 (ipykernel)",
   "language": "python",
   "name": "python3"
  },
  "language_info": {
   "codemirror_mode": {
    "name": "ipython",
    "version": 3
   },
   "file_extension": ".py",
   "mimetype": "text/x-python",
   "name": "python",
   "nbconvert_exporter": "python",
   "pygments_lexer": "ipython3",
   "version": "3.11.7"
  }
 },
 "nbformat": 4,
 "nbformat_minor": 5
}
